{
 "cells": [
  {
   "cell_type": "markdown",
   "id": "927987d4",
   "metadata": {},
   "source": [
    "## Multiples of 3 or 5"
   ]
  },
  {
   "cell_type": "markdown",
   "id": "88e5472f",
   "metadata": {},
   "source": [
    "**Problem 1**\n",
    "\n",
    "If we list all the natural numbers below 10 that are multiples of 3 or 5, we get 3, 5, 6 and 9. The sum of these multiples is 23.\n",
    "\n",
    "Find the sum of all the multiples of 3 or 5 below 1000.\n",
    "\n"
   ]
  },
  {
   "cell_type": "code",
   "execution_count": 1,
   "id": "25f7334f",
   "metadata": {},
   "outputs": [],
   "source": [
    "def sum_of_multiple_of_3_or_5(below_x = 10):\n",
    "    return sum((x for x in range(below_x) if is_multiple_of_3_or_5(x)))"
   ]
  },
  {
   "cell_type": "code",
   "execution_count": 2,
   "id": "bc894ae2",
   "metadata": {},
   "outputs": [],
   "source": [
    "def is_multiple_of_3_or_5(number):\n",
    "    return number % 3 == 0 or number % 5 == 0"
   ]
  },
  {
   "cell_type": "code",
   "execution_count": 4,
   "id": "0467ab90",
   "metadata": {},
   "outputs": [
    {
     "data": {
      "text/plain": [
       "233168"
      ]
     },
     "execution_count": 4,
     "metadata": {},
     "output_type": "execute_result"
    }
   ],
   "source": [
    "sum_of_multiple_of_3_or_5(1000)"
   ]
  }
 ],
 "metadata": {
  "kernelspec": {
   "display_name": "Python 3",
   "language": "python",
   "name": "python3"
  },
  "language_info": {
   "codemirror_mode": {
    "name": "ipython",
    "version": 3
   },
   "file_extension": ".py",
   "mimetype": "text/x-python",
   "name": "python",
   "nbconvert_exporter": "python",
   "pygments_lexer": "ipython3",
   "version": "3.10.7"
  },
  "vscode": {
   "interpreter": {
    "hash": "b6c6a1fe09b27e3f547e16f31785a7acc2f9bc6f24616b6817296d95c9f81d01"
   }
  }
 },
 "nbformat": 4,
 "nbformat_minor": 5
}
